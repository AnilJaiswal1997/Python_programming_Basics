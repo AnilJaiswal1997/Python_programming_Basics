{
 "cells": [
  {
   "cell_type": "code",
   "execution_count": 1,
   "metadata": {},
   "outputs": [
    {
     "data": {
      "text/plain": [
       "<_io.TextIOWrapper name='words.txt' mode='r' encoding='cp1252'>"
      ]
     },
     "execution_count": 1,
     "metadata": {},
     "output_type": "execute_result"
    }
   ],
   "source": [
    "# opening text file in current directory\r\n",
    "fin = open(\"words.txt\")\r\n",
    "fin"
   ]
  },
  {
   "cell_type": "code",
   "execution_count": 2,
   "metadata": {},
   "outputs": [],
   "source": [
    "# useful modules\r\n",
    "import os # To render os\r\n",
    "import shutil # module To change or copy files or directories"
   ]
  },
  {
   "cell_type": "code",
   "execution_count": 3,
   "metadata": {},
   "outputs": [
    {
     "name": "stdout",
     "output_type": "stream",
     "text": [
      "Directory is: c:\\Users\\User\\Desktop\\STUDY\\7th SEM\\Application of gis with python\\Codes\n"
     ]
    }
   ],
   "source": [
    "cwd = os.getcwd() # calling current working directory\r\n",
    "print(f\"Directory is: {cwd}\") # applying f-format for reading cwd as variable"
   ]
  },
  {
   "cell_type": "code",
   "execution_count": 4,
   "metadata": {},
   "outputs": [
    {
     "data": {
      "text/plain": [
       "True"
      ]
     },
     "execution_count": 4,
     "metadata": {},
     "output_type": "execute_result"
    }
   ],
   "source": [
    "# to check if the path exists or not\r\n",
    "os.path.exists(r\"c:\\Users\\User\\Desktop\\STUDY\\7th SEM\\Application of gis with python\\Codes\")"
   ]
  },
  {
   "cell_type": "code",
   "execution_count": 5,
   "metadata": {},
   "outputs": [
    {
     "data": {
      "text/plain": [
       "True"
      ]
     },
     "execution_count": 5,
     "metadata": {},
     "output_type": "execute_result"
    }
   ],
   "source": [
    "#  if we need to know if the directory is present in the os or not\r\n",
    "os.path.isdir(r\"c:\\Users\\User\\Desktop\\STUDY\\7th SEM\\Application of gis with python\\Codes\")"
   ]
  },
  {
   "cell_type": "code",
   "execution_count": 6,
   "metadata": {},
   "outputs": [
    {
     "data": {
      "text/plain": [
       "True"
      ]
     },
     "execution_count": 6,
     "metadata": {},
     "output_type": "execute_result"
    }
   ],
   "source": [
    "# to check if the file exists in the current directory of os or not\r\n",
    "os.path.isfile(\"words.txt\")\r\n"
   ]
  },
  {
   "cell_type": "code",
   "execution_count": 7,
   "metadata": {},
   "outputs": [
    {
     "data": {
      "text/plain": [
       "False"
      ]
     },
     "execution_count": 7,
     "metadata": {},
     "output_type": "execute_result"
    }
   ],
   "source": [
    "os.path.isfile(\"Amoeba.txt\")"
   ]
  },
  {
   "cell_type": "code",
   "execution_count": 8,
   "metadata": {},
   "outputs": [
    {
     "data": {
      "text/plain": [
       "['function.py', 'sk_ko_folder.txt', 'Untitled-1.ipynb', 'words.txt']"
      ]
     },
     "execution_count": 8,
     "metadata": {},
     "output_type": "execute_result"
    }
   ],
   "source": [
    "# to know all the files ij the current directory\r\n",
    "os.listdir(cwd)"
   ]
  },
  {
   "cell_type": "code",
   "execution_count": 9,
   "metadata": {},
   "outputs": [
    {
     "name": "stdout",
     "output_type": "stream",
     "text": [
      "<_io.TextIOWrapper name='words.txt' mode='r' encoding='cp1252'>\n"
     ]
    }
   ],
   "source": [
    "# to open a file\r\n",
    "fin = open('words.txt') #opening in default mode i.e read mode\r\n",
    "print(fin)"
   ]
  },
  {
   "cell_type": "code",
   "execution_count": 10,
   "metadata": {},
   "outputs": [
    {
     "data": {
      "text/plain": [
       "'aa\\n'"
      ]
     },
     "execution_count": 10,
     "metadata": {},
     "output_type": "execute_result"
    }
   ],
   "source": [
    "# to read lines from the text file\r\n",
    "fin.readline() #only reads 1st line"
   ]
  },
  {
   "cell_type": "code",
   "execution_count": 11,
   "metadata": {},
   "outputs": [
    {
     "data": {
      "text/plain": [
       "'aah\\n'"
      ]
     },
     "execution_count": 11,
     "metadata": {},
     "output_type": "execute_result"
    }
   ],
   "source": [
    "#calling again the readline method prints the next line\r\n",
    "fin.readline()"
   ]
  },
  {
   "cell_type": "code",
   "execution_count": 12,
   "metadata": {},
   "outputs": [
    {
     "data": {
      "text/plain": [
       "'aahed\\n'"
      ]
     },
     "execution_count": 12,
     "metadata": {},
     "output_type": "execute_result"
    }
   ],
   "source": [
    "fins = fin.readline()\r\n",
    "fins #prints the 3rd line as the count increased"
   ]
  },
  {
   "cell_type": "code",
   "execution_count": 13,
   "metadata": {},
   "outputs": [
    {
     "name": "stdout",
     "output_type": "stream",
     "text": [
      "aahed\n"
     ]
    }
   ],
   "source": [
    "# to remove spaces and special characters\r\n",
    "a = fins.strip()\r\n",
    "print(a) # in this case the '\\n' and 'singles quotes' from the above output gets removed and printed"
   ]
  },
  {
   "cell_type": "code",
   "execution_count": 14,
   "metadata": {},
   "outputs": [
    {
     "data": {
      "text/plain": [
       "<_io.TextIOWrapper name='sk_ko_folder.txt' mode='w' encoding='cp1252'>"
      ]
     },
     "execution_count": 14,
     "metadata": {},
     "output_type": "execute_result"
    }
   ],
   "source": [
    "# let's create a file in write mode\r\n",
    "aj = open(\"sk_ko_folder.txt\", mode = \"w\")\r\n",
    "aj"
   ]
  },
  {
   "cell_type": "code",
   "execution_count": 15,
   "metadata": {},
   "outputs": [],
   "source": [
    "# let's do entry into the created file\r\n",
    "aj.write(\"Hi! i am anil and i am your instructor today. You can call me S.K \\n\")\r\n",
    "aj.close() #closing the file"
   ]
  },
  {
   "cell_type": "code",
   "execution_count": 16,
   "metadata": {},
   "outputs": [
    {
     "name": "stdout",
     "output_type": "stream",
     "text": [
      "aahing\n",
      "aahs\n",
      "aal\n",
      "aalii\n",
      "aaliis\n",
      "aals\n",
      "aardvark\n",
      "aardvarks\n",
      "aardwolf\n",
      "aardwolves\n",
      "aas\n",
      "aasvogel\n",
      "aasvogels\n",
      "aba\n",
      "abaca\n",
      "abacas\n",
      "abaci\n",
      "aback\n",
      "abacus\n",
      "abacuses\n",
      "abaft\n",
      "abaka\n",
      "abakas\n",
      "abalone\n",
      "abalones\n",
      "abamp\n",
      "abampere\n"
     ]
    }
   ],
   "source": [
    "# using loops in files striping\r\n",
    "for line in fin:\r\n",
    "    sk = line.strip()\r\n",
    "    print(sk)"
   ]
  },
  {
   "cell_type": "code",
   "execution_count": 17,
   "metadata": {},
   "outputs": [
    {
     "name": "stdout",
     "output_type": "stream",
     "text": [
      "123\n"
     ]
    }
   ],
   "source": [
    "# let's get familiar with format operator\r\n",
    "sk = 123\r\n",
    "print(\"{}\".format(sk))"
   ]
  },
  {
   "cell_type": "code",
   "execution_count": 18,
   "metadata": {},
   "outputs": [
    {
     "name": "stdout",
     "output_type": "stream",
     "text": [
      "123\n"
     ]
    }
   ],
   "source": [
    "# the above code can also be written in the form\r\n",
    "print(f\"{sk}\")"
   ]
  },
  {
   "cell_type": "code",
   "execution_count": 19,
   "metadata": {},
   "outputs": [
    {
     "name": "stdout",
     "output_type": "stream",
     "text": [
      "123 0.9who is bb?\n"
     ]
    }
   ],
   "source": [
    "# some more examples in f format usage\r\n",
    "sk = 123\r\n",
    "a = 0.9\r\n",
    "bb = \"who is bb?\"\r\n",
    "print(f\"{sk} {a}{bb}\") #the gaps denote spaces between variables"
   ]
  },
  {
   "cell_type": "code",
   "execution_count": 20,
   "metadata": {},
   "outputs": [
    {
     "name": "stdout",
     "output_type": "stream",
     "text": [
      "Hi! i am anil and i am your instructor today. You can call me S.K \n",
      "\n"
     ]
    }
   ],
   "source": [
    "#using try and except statement in files opening case\r\n",
    "try:\r\n",
    "    fin = open('sk_ko_folder.txt') # opening file\r\n",
    "    for line in fin: \r\n",
    "        print(line) #print line by line if there is any statement in the file\r\n",
    "    fin.close() #closing file\r\n",
    "except: \r\n",
    "    print(\"Something went wrong \") #if file cannot open sucessfully "
   ]
  },
  {
   "cell_type": "code",
   "execution_count": 21,
   "metadata": {},
   "outputs": [
    {
     "name": "stdout",
     "output_type": "stream",
     "text": [
      "c:\\Users\\User\\Desktop\\STUDY\\7th SEM\\Application of gis with python\\Codes\\function.py\n",
      "c:\\Users\\User\\Desktop\\STUDY\\7th SEM\\Application of gis with python\\Codes\\sk_ko_folder.txt\n",
      "c:\\Users\\User\\Desktop\\STUDY\\7th SEM\\Application of gis with python\\Codes\\Untitled-1.ipynb\n",
      "c:\\Users\\User\\Desktop\\STUDY\\7th SEM\\Application of gis with python\\Codes\\words.txt\n"
     ]
    }
   ],
   "source": [
    "'''\r\n",
    "This “walks” through a directory, prints the names of all the files, and calls itself \r\n",
    "recursively on all the directories.\r\n",
    "'''\r\n",
    "import os\r\n",
    "def walk(dir):\r\n",
    "    for name in os.listdir(dir):\r\n",
    "        path = os.path.join(dir,name)\r\n",
    "        if os.path.isfile(path):\r\n",
    "            print (path)\r\n",
    "        else:\r\n",
    "            walk(path)\r\n",
    "cwd = os.getcwd()\r\n",
    "walk(cwd)"
   ]
  },
  {
   "cell_type": "code",
   "execution_count": 22,
   "metadata": {},
   "outputs": [
    {
     "name": "stdout",
     "output_type": "stream",
     "text": [
      "File copied successfully.\n"
     ]
    }
   ],
   "source": [
    "# Source path\r\n",
    "source = r\"c:\\Users\\User\\Desktop\\STUDY\\7th SEM\\Application of gis with python\\Codes\\words.txt\"\r\n",
    " \r\n",
    "# Destination path\r\n",
    "destination = r\"D:\\Programs\\words1.txt\"\r\n",
    " \r\n",
    "# Copy the content of\r\n",
    "# source to destination\r\n",
    " \r\n",
    "try:\r\n",
    "    shutil.copy(source, destination)\r\n",
    "    print(\"File copied successfully.\")\r\n",
    " \r\n",
    "# If source and destination are same\r\n",
    "except shutil.SameFileError:\r\n",
    "    print(\"Source and destination represents the same file.\")\r\n",
    " \r\n",
    "# If there is any permission issue\r\n",
    "except PermissionError:\r\n",
    "    print(\"Permission denied.\")\r\n",
    " \r\n",
    "# For other errors\r\n",
    "except:\r\n",
    "    print(\"Error occurred while copying file.\")"
   ]
  },
  {
   "cell_type": "code",
   "execution_count": 24,
   "metadata": {},
   "outputs": [
    {
     "name": "stdout",
     "output_type": "stream",
     "text": [
      "Before moving file:\n",
      "['AtomSetup-x64.exe', 'BraveBrowserSetup.exe', 'Dev-Cpp 5.11 TDM-GCC 4.9.2 Setup.exe', 'ESRI ArcGIS Desktop 10.5.0.6491.rar', 'Git-2.28.0-64-bit.exe', 'Git-2.32.0-64-bit.exe', 'GitHubDesktopSetup-x64.exe', 'GoogleEarthProSetup.exe', 'idman638build18.exe', 'JavaSetup8u231.exe', 'josm-setup.exe', 'jre-8u291-windows-x64.exe', 'KMP64_2019.9.30.01.exe', 'kmspico.zip', 'MicrosoftEdgeSetup.exe', 'Password 123.txt', 'Pix4Dmapper.msi', 'postgresql-12.7-2-windows-x64.exe', 'postgresql-13.3-2-windows-x64.exe', 'pycharm-community-2019.2.3.exe', 'python-3.7.3.exe', 'python-3.9.5-amd64.exe', 'QGIS-OSGeo4W-3.14.15-1-Setup-x86_64.exe', 'Teams_windows_x64_s_8D83F3E4C5C8BA8-7-0_.exe', 'TeamViewer_Setup.exe', 'tsetup.2.2.0.exe', 'VSCodeUserSetup-x64-1.56.2.exe', 'winrar-x64-571.exe', 'words1.txt', '_Getintopc.com_Adobe_Photoshop_Lightroom_Classic_2020_v9.3.0.10x64_Multilingual.rar', '_Getintopc.com_MathWorks_MATLAB_R2019a_v9.6.0.1072779x64.zip', '_Getintopc.com_Office_Professional_Plus_2019_11029.20079x64.zip']\n",
      "After moving file:\n",
      "['AtomSetup-x64.exe', 'BraveBrowserSetup.exe', 'Dev-Cpp 5.11 TDM-GCC 4.9.2 Setup.exe', 'ESRI ArcGIS Desktop 10.5.0.6491.rar', 'Git-2.28.0-64-bit.exe', 'Git-2.32.0-64-bit.exe', 'GitHubDesktopSetup-x64.exe', 'GoogleEarthProSetup.exe', 'idman638build18.exe', 'JavaSetup8u231.exe', 'josm-setup.exe', 'jre-8u291-windows-x64.exe', 'KMP64_2019.9.30.01.exe', 'kmspico.zip', 'MicrosoftEdgeSetup.exe', 'Password 123.txt', 'Pix4Dmapper.msi', 'postgresql-12.7-2-windows-x64.exe', 'postgresql-13.3-2-windows-x64.exe', 'pycharm-community-2019.2.3.exe', 'python-3.7.3.exe', 'python-3.9.5-amd64.exe', 'QGIS-OSGeo4W-3.14.15-1-Setup-x86_64.exe', 'Teams_windows_x64_s_8D83F3E4C5C8BA8-7-0_.exe', 'TeamViewer_Setup.exe', 'tsetup.2.2.0.exe', 'VSCodeUserSetup-x64-1.56.2.exe', 'winrar-x64-571.exe', '_Getintopc.com_Adobe_Photoshop_Lightroom_Classic_2020_v9.3.0.10x64_Multilingual.rar', '_Getintopc.com_MathWorks_MATLAB_R2019a_v9.6.0.1072779x64.zip', '_Getintopc.com_Office_Professional_Plus_2019_11029.20079x64.zip']\n",
      "Destination path: c:\\Users\\User\\Desktop\\STUDY\\7th SEM\\Application of gis with python\\words1.txt\n"
     ]
    }
   ],
   "source": [
    "\r\n",
    "# path\r\n",
    "import os\r\n",
    "path =r\"D:\\Programs\"\r\n",
    "\r\n",
    "# List files and directories\r\n",
    "# in 'C:\\Users\\Dell\\Desktop\\'\r\n",
    "print(\"Before moving file:\")\r\n",
    "print(os.listdir(path))\r\n",
    "# Source path\r\n",
    "source = r\"D:\\Programs\\words1.txt\"\r\n",
    "\r\n",
    "# Destination path\r\n",
    "destination = r\"c:\\Users\\User\\Desktop\\STUDY\\7th SEM\\Application of gis with python\"\r\n",
    "\r\n",
    "# Move the content of\r\n",
    "# source to destination\r\n",
    "dest = shutil.move(source, destination)\r\n",
    "\r\n",
    "# List files and directories\r\n",
    "print(\"After moving file:\")\r\n",
    "print(os.listdir(path))\r\n",
    "\r\n",
    "# Print path of newly\r\n",
    "# created file\r\n",
    "print(\"Destination path:\", dest)\r\n"
   ]
  }
 ],
 "metadata": {
  "interpreter": {
   "hash": "07efdcd4b820c98a756949507a4d29d7862823915ec7477944641bea022f4f62"
  },
  "kernelspec": {
   "display_name": "Python 3.8.8 64-bit ('base': conda)",
   "name": "python3"
  },
  "language_info": {
   "codemirror_mode": {
    "name": "ipython",
    "version": 3
   },
   "file_extension": ".py",
   "mimetype": "text/x-python",
   "name": "python",
   "nbconvert_exporter": "python",
   "pygments_lexer": "ipython3",
   "version": "3.8.8"
  },
  "orig_nbformat": 4
 },
 "nbformat": 4,
 "nbformat_minor": 2
}